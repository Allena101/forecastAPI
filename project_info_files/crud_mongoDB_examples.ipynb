{
 "cells": [
  {
   "cell_type": "code",
   "execution_count": null,
   "metadata": {
    "vscode": {
     "languageId": "plaintext"
    }
   },
   "outputs": [],
   "source": []
  },
  {
   "cell_type": "code",
   "execution_count": null,
   "metadata": {
    "vscode": {
     "languageId": "plaintext"
    }
   },
   "outputs": [],
   "source": [
    "\n",
    "@router.put(\"/{id}\")\n",
    "async def put_todo(id: str, todo: Todo):\n",
    "    collection_name.find_one_and_update({\"_id\": ObjectId(id)}, {\"$set\": dict(todo)})\n",
    "\n",
    "\n",
    "@router.put(\"/series{id}\")\n",
    "async def put_todo(id: str, todo: Series):\n",
    "    collection_name.find_one_and_update({\"_id\": ObjectId(id)}, {\"$set\": dict(todo)})\n",
    "\n",
    "\n",
    "@router.delete(\"/{id}\")\n",
    "async def delete_todo(id: str):\n",
    "    collection_name.find_one_and_delete({\"_id\": ObjectId(id)})\n",
    "\n",
    "\n",
    "@router.delete(\"/series{id}\")\n",
    "async def delete_todo(id: str):\n",
    "    collection_name.find_one_and_delete({\"_id\": ObjectId(id)})\n",
    "\n",
    "\n",
    "# Did not get to work\n",
    "@router.post(\"/insertSeriesMany\")\n",
    "async def insertSeriesMany(\n",
    "    todo: List[Series_from_pSQL],\n",
    "    client=Depends(get_mongo_client),\n",
    "    series_name: str = Query(..., description=\"Name of Series to query\"),\n",
    "):\n",
    "    print(series_name)\n",
    "    print(f\"{series_name=}\")\n",
    "    elmatare = client[series_name]\n",
    "    for i in todo:\n",
    "        print(f\"{i=}\")\n",
    "        item_dict = i.model_dump()\n",
    "        print(f\"{item_dict=}\")\n",
    "        # elmatare1.insert_one(item_dict)\n",
    "        # client.insert_one(item_dict)\n",
    "        elmatare.insert_one(item_dict)"
   ]
  },
  {
   "cell_type": "code",
   "execution_count": null,
   "metadata": {
    "vscode": {
     "languageId": "plaintext"
    }
   },
   "outputs": [],
   "source": []
  },
  {
   "cell_type": "code",
   "execution_count": null,
   "metadata": {
    "vscode": {
     "languageId": "plaintext"
    }
   },
   "outputs": [],
   "source": []
  },
  {
   "cell_type": "code",
   "execution_count": null,
   "metadata": {
    "vscode": {
     "languageId": "plaintext"
    }
   },
   "outputs": [],
   "source": []
  }
 ],
 "metadata": {
  "language_info": {
   "name": "python"
  }
 },
 "nbformat": 4,
 "nbformat_minor": 2
}
