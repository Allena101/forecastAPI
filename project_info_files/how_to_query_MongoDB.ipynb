{
 "cells": [
  {
   "cell_type": "code",
   "execution_count": null,
   "metadata": {
    "vscode": {
     "languageId": "plaintext"
    }
   },
   "outputs": [],
   "source": []
  },
  {
   "cell_type": "code",
   "execution_count": null,
   "metadata": {
    "vscode": {
     "languageId": "plaintext"
    }
   },
   "outputs": [],
   "source": [
    "# ? How to query between datetime in mongoDB\n",
    "# {\n",
    "#     \"DateTime\": {\n",
    "#         \"$gte\": ISODate(\"2023-11-01T00:00:00.000Z\"),\n",
    "#         \"$lte\": ISODate(\"2023-11-30T23:59:59.999Z\")\n",
    "#     }\n",
    "# }\n",
    "\n",
    "\n",
    "# ? Schema / sample what is returned from mongoDB\n",
    "# [\n",
    "#     {\n",
    "#         \"id\": \"66fa679cffd614d76f9df452\",\n",
    "#         \"DateTime\": \"2023-11-01T00:00:00\",\n",
    "#         \"Actual\": 0,\n",
    "#         \"Forecast\": \"nan\"\n",
    "#     },\n",
    "#     {\n",
    "#         \"id\": \"66fa679dffd614d76f9df453\",\n",
    "#         \"DateTime\": \"2023-11-01T01:00:00\",\n",
    "#         \"Actual\": 0,\n",
    "#         \"Forecast\": \"nan\"\n",
    "#     },\n",
    "# ]"
   ]
  },
  {
   "cell_type": "code",
   "execution_count": null,
   "metadata": {
    "vscode": {
     "languageId": "plaintext"
    }
   },
   "outputs": [],
   "source": []
  },
  {
   "cell_type": "code",
   "execution_count": null,
   "metadata": {
    "vscode": {
     "languageId": "plaintext"
    }
   },
   "outputs": [],
   "source": []
  },
  {
   "cell_type": "code",
   "execution_count": null,
   "metadata": {
    "vscode": {
     "languageId": "plaintext"
    }
   },
   "outputs": [],
   "source": []
  },
  {
   "cell_type": "code",
   "execution_count": null,
   "metadata": {
    "vscode": {
     "languageId": "plaintext"
    }
   },
   "outputs": [],
   "source": []
  }
 ],
 "metadata": {
  "language_info": {
   "name": "python"
  }
 },
 "nbformat": 4,
 "nbformat_minor": 2
}
