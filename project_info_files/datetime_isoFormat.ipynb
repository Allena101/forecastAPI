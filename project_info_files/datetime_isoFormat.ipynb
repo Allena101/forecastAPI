{
 "cells": [
  {
   "cell_type": "code",
   "execution_count": null,
   "metadata": {
    "vscode": {
     "languageId": "plaintext"
    }
   },
   "outputs": [],
   "source": []
  },
  {
   "cell_type": "code",
   "execution_count": null,
   "metadata": {
    "vscode": {
     "languageId": "plaintext"
    }
   },
   "outputs": [],
   "source": [
    "    # 2020-06-18T09:00:00.000+00:00\n",
    "    start_dt = \"2020-06-18 09\"\n",
    "    start_date = datetime.strptime(start_dt, \"%Y-%m-%d %H\")\n",
    "    start_dt_obj = datetime.fromisoformat(\"2020-06-18T09:00:00.000+00:00\")\n",
    "    start_start = \"2020-06-18 08\"\n",
    "\n",
    "\n",
    "    # 2020-06-18T12:00:00.000+00:00\n",
    "    end_dt = \"2020-06-18 10\"\n",
    "    end_date = datetime.strptime(end_dt, \"%Y-%m-%d %H\")\n",
    "    end_dt_obj = datetime.fromisoformat(\"2020-06-18T12:00:00.000+00:00\")\n",
    "    end_end = \"2020-06-18 09\""
   ]
  },
  {
   "cell_type": "code",
   "execution_count": null,
   "metadata": {
    "vscode": {
     "languageId": "plaintext"
    }
   },
   "outputs": [],
   "source": []
  },
  {
   "cell_type": "code",
   "execution_count": null,
   "metadata": {
    "vscode": {
     "languageId": "plaintext"
    }
   },
   "outputs": [],
   "source": []
  }
 ],
 "metadata": {
  "language_info": {
   "name": "python"
  }
 },
 "nbformat": 4,
 "nbformat_minor": 2
}
